{
  "nbformat": 4,
  "nbformat_minor": 0,
  "metadata": {
    "colab": {
      "provenance": [],
      "authorship_tag": "ABX9TyMkIVerZw09U0fooNedruZr",
      "include_colab_link": true
    },
    "kernelspec": {
      "name": "python3",
      "display_name": "Python 3"
    },
    "language_info": {
      "name": "python"
    }
  },
  "cells": [
    {
      "cell_type": "markdown",
      "metadata": {
        "id": "view-in-github",
        "colab_type": "text"
      },
      "source": [
        "<a href=\"https://colab.research.google.com/github/mahmoudBidry/2023-GenAI-Hackathon/blob/main/audio_conversion.ipynb\" target=\"_parent\"><img src=\"https://colab.research.google.com/assets/colab-badge.svg\" alt=\"Open In Colab\"/></a>"
      ]
    },
    {
      "cell_type": "code",
      "execution_count": null,
      "metadata": {
        "colab": {
          "base_uri": "https://localhost:8080/"
        },
        "id": "6COqqqc1kETX",
        "outputId": "9bf18b94-9aed-4a2b-96f8-93ccf4034414"
      },
      "outputs": [
        {
          "output_type": "stream",
          "name": "stdout",
          "text": [
            "Drive already mounted at /content/drive; to attempt to forcibly remount, call drive.mount(\"/content/drive\", force_remount=True).\n"
          ]
        }
      ],
      "source": [
        "from google.colab import drive\n",
        "drive.mount('/content/drive')"
      ]
    },
    {
      "cell_type": "code",
      "source": [
        "import pandas as pd"
      ],
      "metadata": {
        "id": "2RYsIEfykOj_"
      },
      "execution_count": null,
      "outputs": []
    },
    {
      "cell_type": "code",
      "source": [
        "path = \"drive/MyDrive/Colab Notebooks/seamless m4t fine tuning/datasets/open darija dataset/\""
      ],
      "metadata": {
        "id": "Yt8GKfmMkPx1"
      },
      "execution_count": null,
      "outputs": []
    },
    {
      "cell_type": "code",
      "source": [
        "# existing_file_path = path+'sentences_english_to_darija_cleaned.csv'\n",
        "# df = pd.read_csv(existing_file_path)"
      ],
      "metadata": {
        "id": "sQnfOP418dJ7"
      },
      "execution_count": null,
      "outputs": []
    },
    {
      "cell_type": "code",
      "source": [
        "# # Drop the 'darija' column\n",
        "# df.drop(columns=['darija'], inplace=True)\n",
        "\n",
        "# # Save the DataFrame to a new CSV file\n",
        "# df.to_csv(path+'sentences_english_to_darija.csv', index=False)"
      ],
      "metadata": {
        "id": "N9MQeqYcB3__"
      },
      "execution_count": null,
      "outputs": []
    },
    {
      "cell_type": "code",
      "source": [
        "# # Drop rows where 'eng' column is NaN\n",
        "# df.dropna(subset=['eng'], inplace=True)\n",
        "\n",
        "# # Save the DataFrame to a new CSV file\n",
        "# df.to_csv(path+'sentences_english_to_darija_cleaned.csv', index=False)"
      ],
      "metadata": {
        "id": "dmOimRsfC_ch"
      },
      "execution_count": null,
      "outputs": []
    },
    {
      "cell_type": "code",
      "source": [
        "# df.info()"
      ],
      "metadata": {
        "id": "0dnOIawq8-J3"
      },
      "execution_count": null,
      "outputs": []
    },
    {
      "cell_type": "code",
      "source": [
        "# df.sample(10)"
      ],
      "metadata": {
        "id": "wK-XcQH_B3SP"
      },
      "execution_count": null,
      "outputs": []
    },
    {
      "cell_type": "code",
      "source": [
        "import librosa"
      ],
      "metadata": {
        "id": "FIIjMZzCXuAJ"
      },
      "execution_count": null,
      "outputs": []
    },
    {
      "cell_type": "code",
      "source": [
        "import os"
      ],
      "metadata": {
        "id": "64tKHFOKX3ZW"
      },
      "execution_count": null,
      "outputs": []
    },
    {
      "cell_type": "code",
      "source": [
        "path = \"drive/MyDrive/Colab Notebooks/seamless m4t fine tuning/wav audios/\"\n",
        "for file in os.listdir(path):\n",
        "  if file.endswith('.wav'):\n",
        "    print(file)\n",
        "    audio_path = path+str(file)\n",
        "    y, sr = librosa.load(audio_path, sr=None)\n",
        "\n",
        "    print(\"file :\",file,\", Sample rate:\", sr)\n",
        "    print()"
      ],
      "metadata": {
        "colab": {
          "base_uri": "https://localhost:8080/"
        },
        "id": "yzK8oh9jX4Ct",
        "outputId": "ac44b83f-ba13-4b9b-bcfe-c8d7eaa04355"
      },
      "execution_count": null,
      "outputs": [
        {
          "output_type": "stream",
          "name": "stdout",
          "text": [
            "7029.wav\n",
            "file : 7029.wav , Sample rate: 16000\n",
            "\n",
            "7028.wav\n",
            "file : 7028.wav , Sample rate: 16000\n",
            "\n",
            "7021.wav\n",
            "file : 7021.wav , Sample rate: 16000\n",
            "\n",
            "7022.wav\n",
            "file : 7022.wav , Sample rate: 16000\n",
            "\n",
            "7024.wav\n",
            "file : 7024.wav , Sample rate: 16000\n",
            "\n",
            "7025.wav\n",
            "file : 7025.wav , Sample rate: 16000\n",
            "\n",
            "7023.wav\n",
            "file : 7023.wav , Sample rate: 16000\n",
            "\n",
            "7026.wav\n",
            "file : 7026.wav , Sample rate: 16000\n",
            "\n",
            "7020.wav\n",
            "file : 7020.wav , Sample rate: 16000\n",
            "\n",
            "7027.wav\n",
            "file : 7027.wav , Sample rate: 16000\n",
            "\n",
            "7017.wav\n",
            "file : 7017.wav , Sample rate: 16000\n",
            "\n",
            "7019.wav\n",
            "file : 7019.wav , Sample rate: 16000\n",
            "\n",
            "7016.wav\n",
            "file : 7016.wav , Sample rate: 16000\n",
            "\n",
            "7013.wav\n",
            "file : 7013.wav , Sample rate: 16000\n",
            "\n",
            "7014.wav\n",
            "file : 7014.wav , Sample rate: 16000\n",
            "\n",
            "7011.wav\n",
            "file : 7011.wav , Sample rate: 16000\n",
            "\n",
            "7015.wav\n",
            "file : 7015.wav , Sample rate: 16000\n",
            "\n",
            "7012.wav\n",
            "file : 7012.wav , Sample rate: 16000\n",
            "\n",
            "7010.wav\n",
            "file : 7010.wav , Sample rate: 16000\n",
            "\n",
            "7018.wav\n",
            "file : 7018.wav , Sample rate: 16000\n",
            "\n",
            "7008.wav\n",
            "file : 7008.wav , Sample rate: 16000\n",
            "\n",
            "7009.wav\n",
            "file : 7009.wav , Sample rate: 16000\n",
            "\n",
            "7002.wav\n",
            "file : 7002.wav , Sample rate: 16000\n",
            "\n",
            "7005.wav\n",
            "file : 7005.wav , Sample rate: 16000\n",
            "\n",
            "7004.wav\n",
            "file : 7004.wav , Sample rate: 16000\n",
            "\n",
            "7001.wav\n",
            "file : 7001.wav , Sample rate: 16000\n",
            "\n",
            "7006.wav\n",
            "file : 7006.wav , Sample rate: 16000\n",
            "\n",
            "7000.wav\n",
            "file : 7000.wav , Sample rate: 16000\n",
            "\n",
            "7003.wav\n",
            "file : 7003.wav , Sample rate: 16000\n",
            "\n",
            "7007.wav\n",
            "file : 7007.wav , Sample rate: 16000\n",
            "\n",
            "7058.wav\n",
            "file : 7058.wav , Sample rate: 16000\n",
            "\n",
            "7059.wav\n",
            "file : 7059.wav , Sample rate: 16000\n",
            "\n",
            "7054.wav\n",
            "file : 7054.wav , Sample rate: 16000\n",
            "\n",
            "7051.wav\n",
            "file : 7051.wav , Sample rate: 16000\n",
            "\n",
            "7052.wav\n",
            "file : 7052.wav , Sample rate: 16000\n",
            "\n",
            "7050.wav\n",
            "file : 7050.wav , Sample rate: 16000\n",
            "\n",
            "7053.wav\n",
            "file : 7053.wav , Sample rate: 16000\n",
            "\n",
            "7055.wav\n",
            "file : 7055.wav , Sample rate: 16000\n",
            "\n",
            "7056.wav\n",
            "file : 7056.wav , Sample rate: 16000\n",
            "\n",
            "7057.wav\n",
            "file : 7057.wav , Sample rate: 16000\n",
            "\n",
            "7049.wav\n",
            "file : 7049.wav , Sample rate: 16000\n",
            "\n",
            "7048.wav\n",
            "file : 7048.wav , Sample rate: 16000\n",
            "\n",
            "7046.wav\n",
            "file : 7046.wav , Sample rate: 16000\n",
            "\n",
            "7045.wav\n",
            "file : 7045.wav , Sample rate: 16000\n",
            "\n",
            "7042.wav\n",
            "file : 7042.wav , Sample rate: 16000\n",
            "\n",
            "7044.wav\n",
            "file : 7044.wav , Sample rate: 16000\n",
            "\n",
            "7043.wav\n",
            "file : 7043.wav , Sample rate: 16000\n",
            "\n",
            "7041.wav\n",
            "file : 7041.wav , Sample rate: 16000\n",
            "\n",
            "7040.wav\n",
            "file : 7040.wav , Sample rate: 16000\n",
            "\n",
            "7047.wav\n",
            "file : 7047.wav , Sample rate: 16000\n",
            "\n",
            "7039.wav\n",
            "file : 7039.wav , Sample rate: 16000\n",
            "\n",
            "7038.wav\n",
            "file : 7038.wav , Sample rate: 16000\n",
            "\n",
            "7034.wav\n",
            "file : 7034.wav , Sample rate: 16000\n",
            "\n",
            "7030.wav\n",
            "file : 7030.wav , Sample rate: 16000\n",
            "\n",
            "7035.wav\n",
            "file : 7035.wav , Sample rate: 16000\n",
            "\n",
            "7031.wav\n",
            "file : 7031.wav , Sample rate: 16000\n",
            "\n",
            "7032.wav\n",
            "file : 7032.wav , Sample rate: 16000\n",
            "\n",
            "7033.wav\n",
            "file : 7033.wav , Sample rate: 16000\n",
            "\n",
            "7036.wav\n",
            "file : 7036.wav , Sample rate: 16000\n",
            "\n",
            "7037.wav\n",
            "file : 7037.wav , Sample rate: 16000\n",
            "\n",
            "7097.wav\n",
            "file : 7097.wav , Sample rate: 16000\n",
            "\n",
            "7089.wav\n",
            "file : 7089.wav , Sample rate: 16000\n",
            "\n",
            "7088.wav\n",
            "file : 7088.wav , Sample rate: 16000\n",
            "\n",
            "7082.wav\n",
            "file : 7082.wav , Sample rate: 16000\n",
            "\n",
            "7080.wav\n",
            "file : 7080.wav , Sample rate: 16000\n",
            "\n",
            "7085.wav\n",
            "file : 7085.wav , Sample rate: 16000\n",
            "\n",
            "7083.wav\n",
            "file : 7083.wav , Sample rate: 16000\n",
            "\n",
            "7081.wav\n",
            "file : 7081.wav , Sample rate: 16000\n",
            "\n",
            "7086.wav\n",
            "file : 7086.wav , Sample rate: 16000\n",
            "\n",
            "7084.wav\n",
            "file : 7084.wav , Sample rate: 16000\n",
            "\n",
            "7087.wav\n",
            "file : 7087.wav , Sample rate: 16000\n",
            "\n",
            "7079.wav\n",
            "file : 7079.wav , Sample rate: 16000\n",
            "\n",
            "7078.wav\n",
            "file : 7078.wav , Sample rate: 16000\n",
            "\n",
            "7073.wav\n",
            "file : 7073.wav , Sample rate: 16000\n",
            "\n",
            "7071.wav\n",
            "file : 7071.wav , Sample rate: 16000\n",
            "\n",
            "7076.wav\n",
            "file : 7076.wav , Sample rate: 16000\n",
            "\n",
            "7070.wav\n",
            "file : 7070.wav , Sample rate: 16000\n",
            "\n",
            "7075.wav\n",
            "file : 7075.wav , Sample rate: 16000\n",
            "\n",
            "7074.wav\n",
            "file : 7074.wav , Sample rate: 16000\n",
            "\n",
            "7072.wav\n",
            "file : 7072.wav , Sample rate: 16000\n",
            "\n",
            "7077.wav\n",
            "file : 7077.wav , Sample rate: 16000\n",
            "\n",
            "7069.wav\n",
            "file : 7069.wav , Sample rate: 16000\n",
            "\n",
            "7068.wav\n",
            "file : 7068.wav , Sample rate: 16000\n",
            "\n",
            "7065.wav\n",
            "file : 7065.wav , Sample rate: 16000\n",
            "\n",
            "7062.wav\n",
            "file : 7062.wav , Sample rate: 16000\n",
            "\n",
            "7064.wav\n",
            "file : 7064.wav , Sample rate: 16000\n",
            "\n",
            "7066.wav\n",
            "file : 7066.wav , Sample rate: 16000\n",
            "\n",
            "7060.wav\n",
            "file : 7060.wav , Sample rate: 16000\n",
            "\n",
            "7061.wav\n",
            "file : 7061.wav , Sample rate: 16000\n",
            "\n",
            "7063.wav\n",
            "file : 7063.wav , Sample rate: 16000\n",
            "\n",
            "7067.wav\n",
            "file : 7067.wav , Sample rate: 16000\n",
            "\n",
            "7100.wav\n",
            "file : 7100.wav , Sample rate: 16000\n",
            "\n",
            "7099.wav\n",
            "file : 7099.wav , Sample rate: 16000\n",
            "\n",
            "7098.wav\n",
            "file : 7098.wav , Sample rate: 16000\n",
            "\n",
            "7093.wav\n",
            "file : 7093.wav , Sample rate: 16000\n",
            "\n",
            "7091.wav\n",
            "file : 7091.wav , Sample rate: 16000\n",
            "\n",
            "7096.wav\n",
            "file : 7096.wav , Sample rate: 16000\n",
            "\n",
            "7094.wav\n",
            "file : 7094.wav , Sample rate: 16000\n",
            "\n",
            "7092.wav\n",
            "file : 7092.wav , Sample rate: 16000\n",
            "\n",
            "7095.wav\n",
            "file : 7095.wav , Sample rate: 16000\n",
            "\n",
            "7090.wav\n",
            "file : 7090.wav , Sample rate: 16000\n",
            "\n",
            "101\n"
          ]
        }
      ]
    },
    {
      "cell_type": "markdown",
      "source": [
        "# download pydub"
      ],
      "metadata": {
        "id": "yoJqSdv6in2B"
      }
    },
    {
      "cell_type": "code",
      "source": [
        "!pip install pydub\n",
        "!pip install ffmpeg-python\n"
      ],
      "metadata": {
        "colab": {
          "base_uri": "https://localhost:8080/"
        },
        "id": "P7J7DfeBZBR0",
        "outputId": "6d303fe4-f326-4498-84f0-691f68e30452"
      },
      "execution_count": null,
      "outputs": [
        {
          "output_type": "stream",
          "name": "stdout",
          "text": [
            "Requirement already satisfied: pydub in /usr/local/lib/python3.10/dist-packages (0.25.1)\n",
            "Requirement already satisfied: ffmpeg-python in /usr/local/lib/python3.10/dist-packages (0.2.0)\n",
            "Requirement already satisfied: future in /usr/local/lib/python3.10/dist-packages (from ffmpeg-python) (0.18.3)\n"
          ]
        }
      ]
    },
    {
      "cell_type": "markdown",
      "source": [
        "# ogg to wav"
      ],
      "metadata": {
        "id": "d9CjqkoKidSq"
      }
    },
    {
      "cell_type": "code",
      "source": [
        "os.listdir('drive/MyDrive/Colab Notebooks/seamless m4t fine tuning/ogg audios/')"
      ],
      "metadata": {
        "id": "_j8C4BfoE2kM"
      },
      "execution_count": null,
      "outputs": []
    },
    {
      "cell_type": "code",
      "source": [
        "import os\n",
        "from pydub import AudioSegment\n",
        "\n",
        "# Path to the directory containing the OGG audio files\n",
        "path = \"drive/MyDrive/Colab Notebooks/seamless m4t fine tuning/ogg audios/\"\n",
        "destination = \"drive/MyDrive/Colab Notebooks/seamless m4t fine tuning/wav audios/\"\n",
        "\n",
        "# Set the target sample rate to 16000 Hz\n",
        "target_sample_rate = 16000\n",
        "\n",
        "# Loop through each file in the directory\n",
        "for file_name in os.listdir(path):\n",
        "    if file_name.endswith(\".ogg\"):\n",
        "        # Load the OGG audio file\n",
        "        ogg_audio = AudioSegment.from_file(os.path.join(path, file_name), format=\"ogg\")\n",
        "\n",
        "        # Resample the audio to the target sample rate\n",
        "        ogg_audio = ogg_audio.set_frame_rate(target_sample_rate)\n",
        "\n",
        "        # Export the audio to WAV format with the target sample rate\n",
        "        wav_file_name = os.path.splitext(file_name)[0] + '.wav'\n",
        "        wav_audio_path = os.path.join(destination, wav_file_name)\n",
        "        ogg_audio.export(wav_audio_path, format=\"wav\")\n",
        "\n",
        "        print(\"Conversion completed for:\", file_name)\n",
        "\n",
        "print(\"All conversions completed.\")\n"
      ],
      "metadata": {
        "id": "voOqIH6PZCX-",
        "colab": {
          "base_uri": "https://localhost:8080/"
        },
        "outputId": "2e34e4f3-48f3-484a-a02a-ed6335dad3dc"
      },
      "execution_count": null,
      "outputs": [
        {
          "output_type": "stream",
          "name": "stdout",
          "text": [
            "Conversion completed for: 7029.ogg\n",
            "Conversion completed for: 7028.ogg\n",
            "Conversion completed for: 7021.ogg\n",
            "Conversion completed for: 7022.ogg\n",
            "Conversion completed for: 7024.ogg\n",
            "Conversion completed for: 7025.ogg\n",
            "Conversion completed for: 7023.ogg\n",
            "Conversion completed for: 7026.ogg\n",
            "Conversion completed for: 7020.ogg\n",
            "Conversion completed for: 7027.ogg\n",
            "Conversion completed for: 7017.ogg\n",
            "Conversion completed for: 7019.ogg\n",
            "Conversion completed for: 7016.ogg\n",
            "Conversion completed for: 7013.ogg\n",
            "Conversion completed for: 7014.ogg\n",
            "Conversion completed for: 7011.ogg\n",
            "Conversion completed for: 7015.ogg\n",
            "Conversion completed for: 7012.ogg\n",
            "Conversion completed for: 7010.ogg\n",
            "Conversion completed for: 7018.ogg\n",
            "Conversion completed for: 7008.ogg\n",
            "Conversion completed for: 7009.ogg\n",
            "Conversion completed for: 7002.ogg\n",
            "Conversion completed for: 7005.ogg\n",
            "Conversion completed for: 7004.ogg\n",
            "Conversion completed for: 7001.ogg\n",
            "Conversion completed for: 7006.ogg\n",
            "Conversion completed for: 7000.ogg\n",
            "Conversion completed for: 7003.ogg\n",
            "Conversion completed for: 7007.ogg\n",
            "Conversion completed for: 7058.ogg\n",
            "Conversion completed for: 7059.ogg\n",
            "Conversion completed for: 7054.ogg\n",
            "Conversion completed for: 7051.ogg\n",
            "Conversion completed for: 7052.ogg\n",
            "Conversion completed for: 7050.ogg\n",
            "Conversion completed for: 7053.ogg\n",
            "Conversion completed for: 7055.ogg\n",
            "Conversion completed for: 7056.ogg\n",
            "Conversion completed for: 7057.ogg\n",
            "Conversion completed for: 7049.ogg\n",
            "Conversion completed for: 7048.ogg\n",
            "Conversion completed for: 7046.ogg\n",
            "Conversion completed for: 7045.ogg\n",
            "Conversion completed for: 7042.ogg\n",
            "Conversion completed for: 7044.ogg\n",
            "Conversion completed for: 7043.ogg\n",
            "Conversion completed for: 7041.ogg\n",
            "Conversion completed for: 7040.ogg\n",
            "Conversion completed for: 7047.ogg\n",
            "Conversion completed for: 7039.ogg\n",
            "Conversion completed for: 7038.ogg\n",
            "Conversion completed for: 7034.ogg\n",
            "Conversion completed for: 7030.ogg\n",
            "Conversion completed for: 7035.ogg\n",
            "Conversion completed for: 7031.ogg\n",
            "Conversion completed for: 7032.ogg\n",
            "Conversion completed for: 7033.ogg\n",
            "Conversion completed for: 7036.ogg\n",
            "Conversion completed for: 7037.ogg\n",
            "Conversion completed for: 7097.ogg\n",
            "Conversion completed for: 7089.ogg\n",
            "Conversion completed for: 7088.ogg\n",
            "Conversion completed for: 7082.ogg\n",
            "Conversion completed for: 7080.ogg\n",
            "Conversion completed for: 7085.ogg\n",
            "Conversion completed for: 7083.ogg\n",
            "Conversion completed for: 7081.ogg\n",
            "Conversion completed for: 7086.ogg\n",
            "Conversion completed for: 7084.ogg\n",
            "Conversion completed for: 7087.ogg\n",
            "Conversion completed for: 7079.ogg\n",
            "Conversion completed for: 7078.ogg\n",
            "Conversion completed for: 7073.ogg\n",
            "Conversion completed for: 7071.ogg\n",
            "Conversion completed for: 7076.ogg\n",
            "Conversion completed for: 7070.ogg\n",
            "Conversion completed for: 7075.ogg\n",
            "Conversion completed for: 7074.ogg\n",
            "Conversion completed for: 7072.ogg\n",
            "Conversion completed for: 7077.ogg\n",
            "Conversion completed for: 7069.ogg\n",
            "Conversion completed for: 7068.ogg\n",
            "Conversion completed for: 7065.ogg\n",
            "Conversion completed for: 7062.ogg\n",
            "Conversion completed for: 7064.ogg\n",
            "Conversion completed for: 7066.ogg\n",
            "Conversion completed for: 7060.ogg\n",
            "Conversion completed for: 7061.ogg\n",
            "Conversion completed for: 7063.ogg\n",
            "Conversion completed for: 7067.ogg\n",
            "Conversion completed for: 7100.ogg\n",
            "Conversion completed for: 7099.ogg\n",
            "Conversion completed for: 7098.ogg\n",
            "Conversion completed for: 7093.ogg\n",
            "Conversion completed for: 7091.ogg\n",
            "Conversion completed for: 7096.ogg\n",
            "Conversion completed for: 7094.ogg\n",
            "Conversion completed for: 7092.ogg\n",
            "Conversion completed for: 7095.ogg\n",
            "Conversion completed for: 7090.ogg\n",
            "All conversions completed.\n"
          ]
        }
      ]
    },
    {
      "cell_type": "code",
      "source": [
        "os.listdir(path)"
      ],
      "metadata": {
        "colab": {
          "base_uri": "https://localhost:8080/"
        },
        "id": "4dJCJpuW7jIx",
        "outputId": "a28d48d5-a688-4e2a-f2fd-bd08ce91416d"
      },
      "execution_count": null,
      "outputs": [
        {
          "output_type": "execute_result",
          "data": {
            "text/plain": [
              "['m4a_audio.m4a',\n",
              " 'wav_audio.wav',\n",
              " 'ogg_audio.ogg',\n",
              " 'aac_audio.aac',\n",
              " 'aac_to_wav.wav',\n",
              " 'cccc.m4a',\n",
              " 'testcccc.m4a',\n",
              " 'cccc.wav',\n",
              " 'm4a_to_wav.wav',\n",
              " 'youssef_audio_anger.aac']"
            ]
          },
          "metadata": {},
          "execution_count": 11
        }
      ]
    },
    {
      "cell_type": "markdown",
      "source": [
        "# m4a to wav"
      ],
      "metadata": {
        "id": "X8CxvGxbigZz"
      }
    },
    {
      "cell_type": "code",
      "source": [
        "import ffmpeg\n",
        "\n",
        "m4a_file = path+'cccc.m4a' # I have downloaded sample audio from this link https://getsamplefiles.com/sample-audio-files/m4a\n",
        "wav_filename = path+'m4a_to_wav.wav'\n",
        "\n",
        "target_sample_rate = 16000\n",
        "\n",
        "ffmpeg.input(m4a_file).output(wav_filename, ar=target_sample_rate).run()\n",
        "print(\"Conversion completed. WAV file saved at:\", wav_filename)\n"
      ],
      "metadata": {
        "colab": {
          "base_uri": "https://localhost:8080/",
          "height": 315
        },
        "id": "kxBo3Uob-2lB",
        "outputId": "df980133-0879-4fea-ba5b-6a33a0ca0d63"
      },
      "execution_count": null,
      "outputs": [
        {
          "output_type": "error",
          "ename": "Error",
          "evalue": "ffmpeg error (see stderr output for detail)",
          "traceback": [
            "\u001b[0;31m---------------------------------------------------------------------------\u001b[0m",
            "\u001b[0;31mError\u001b[0m                                     Traceback (most recent call last)",
            "\u001b[0;32m<ipython-input-18-f0ab22c7ae2b>\u001b[0m in \u001b[0;36m<cell line: 8>\u001b[0;34m()\u001b[0m\n\u001b[1;32m      6\u001b[0m \u001b[0mtarget_sample_rate\u001b[0m \u001b[0;34m=\u001b[0m \u001b[0;36m16000\u001b[0m\u001b[0;34m\u001b[0m\u001b[0;34m\u001b[0m\u001b[0m\n\u001b[1;32m      7\u001b[0m \u001b[0;34m\u001b[0m\u001b[0m\n\u001b[0;32m----> 8\u001b[0;31m \u001b[0mffmpeg\u001b[0m\u001b[0;34m.\u001b[0m\u001b[0minput\u001b[0m\u001b[0;34m(\u001b[0m\u001b[0mm4a_file\u001b[0m\u001b[0;34m)\u001b[0m\u001b[0;34m.\u001b[0m\u001b[0moutput\u001b[0m\u001b[0;34m(\u001b[0m\u001b[0mwav_filename\u001b[0m\u001b[0;34m,\u001b[0m \u001b[0mar\u001b[0m\u001b[0;34m=\u001b[0m\u001b[0mtarget_sample_rate\u001b[0m\u001b[0;34m)\u001b[0m\u001b[0;34m.\u001b[0m\u001b[0mrun\u001b[0m\u001b[0;34m(\u001b[0m\u001b[0;34m)\u001b[0m\u001b[0;34m\u001b[0m\u001b[0;34m\u001b[0m\u001b[0m\n\u001b[0m\u001b[1;32m      9\u001b[0m \u001b[0mprint\u001b[0m\u001b[0;34m(\u001b[0m\u001b[0;34m\"Conversion completed. WAV file saved at:\"\u001b[0m\u001b[0;34m,\u001b[0m \u001b[0mwav_filename\u001b[0m\u001b[0;34m)\u001b[0m\u001b[0;34m\u001b[0m\u001b[0;34m\u001b[0m\u001b[0m\n",
            "\u001b[0;32m/usr/local/lib/python3.10/dist-packages/ffmpeg/_run.py\u001b[0m in \u001b[0;36mrun\u001b[0;34m(stream_spec, cmd, capture_stdout, capture_stderr, input, quiet, overwrite_output)\u001b[0m\n\u001b[1;32m    323\u001b[0m     \u001b[0mretcode\u001b[0m \u001b[0;34m=\u001b[0m \u001b[0mprocess\u001b[0m\u001b[0;34m.\u001b[0m\u001b[0mpoll\u001b[0m\u001b[0;34m(\u001b[0m\u001b[0;34m)\u001b[0m\u001b[0;34m\u001b[0m\u001b[0;34m\u001b[0m\u001b[0m\n\u001b[1;32m    324\u001b[0m     \u001b[0;32mif\u001b[0m \u001b[0mretcode\u001b[0m\u001b[0;34m:\u001b[0m\u001b[0;34m\u001b[0m\u001b[0;34m\u001b[0m\u001b[0m\n\u001b[0;32m--> 325\u001b[0;31m         \u001b[0;32mraise\u001b[0m \u001b[0mError\u001b[0m\u001b[0;34m(\u001b[0m\u001b[0;34m'ffmpeg'\u001b[0m\u001b[0;34m,\u001b[0m \u001b[0mout\u001b[0m\u001b[0;34m,\u001b[0m \u001b[0merr\u001b[0m\u001b[0;34m)\u001b[0m\u001b[0;34m\u001b[0m\u001b[0;34m\u001b[0m\u001b[0m\n\u001b[0m\u001b[1;32m    326\u001b[0m     \u001b[0;32mreturn\u001b[0m \u001b[0mout\u001b[0m\u001b[0;34m,\u001b[0m \u001b[0merr\u001b[0m\u001b[0;34m\u001b[0m\u001b[0;34m\u001b[0m\u001b[0m\n\u001b[1;32m    327\u001b[0m \u001b[0;34m\u001b[0m\u001b[0m\n",
            "\u001b[0;31mError\u001b[0m: ffmpeg error (see stderr output for detail)"
          ]
        }
      ]
    },
    {
      "cell_type": "code",
      "source": [
        "from pydub import AudioSegment\n",
        "\n",
        "m4a_file = path+'cccc.m4a' # I have downloaded sample audio from this link https://getsamplefiles.com/sample-audio-files/m4a\n",
        "wav_filename = path+'m4a_to_wav.wav'\n",
        "\n",
        "# Load the M4A audio file\n",
        "m4a_audio = AudioSegment.from_file(m4a_file, format=\"m4a\")\n",
        "\n",
        "# Set the sample rate to 16000\n",
        "target_sample_rate = 16000\n",
        "m4a_audio = m4a_audio.set_frame_rate(target_sample_rate)\n",
        "\n",
        "m4a_audio.export(wav_filename, format=\"wav\")\n",
        "\n",
        "print(\"Conversion completed. WAV file saved at:\", wav_filename)\n"
      ],
      "metadata": {
        "id": "oN_T2b9LiJ1j",
        "colab": {
          "base_uri": "https://localhost:8080/",
          "height": 714
        },
        "outputId": "3ad4a9f5-3970-4a6f-ae21-b5a09c22999a"
      },
      "execution_count": null,
      "outputs": [
        {
          "output_type": "error",
          "ename": "CouldntDecodeError",
          "evalue": "Decoding failed. ffmpeg returned error code: 1\n\nOutput from ffmpeg/avlib:\n\nffmpeg version 4.4.2-0ubuntu0.22.04.1 Copyright (c) 2000-2021 the FFmpeg developers\n  built with gcc 11 (Ubuntu 11.2.0-19ubuntu1)\n  configuration: --prefix=/usr --extra-version=0ubuntu0.22.04.1 --toolchain=hardened --libdir=/usr/lib/x86_64-linux-gnu --incdir=/usr/include/x86_64-linux-gnu --arch=amd64 --enable-gpl --disable-stripping --enable-gnutls --enable-ladspa --enable-libaom --enable-libass --enable-libbluray --enable-libbs2b --enable-libcaca --enable-libcdio --enable-libcodec2 --enable-libdav1d --enable-libflite --enable-libfontconfig --enable-libfreetype --enable-libfribidi --enable-libgme --enable-libgsm --enable-libjack --enable-libmp3lame --enable-libmysofa --enable-libopenjpeg --enable-libopenmpt --enable-libopus --enable-libpulse --enable-librabbitmq --enable-librubberband --enable-libshine --enable-libsnappy --enable-libsoxr --enable-libspeex --enable-libsrt --enable-libssh --enable-libtheora --enable-libtwolame --enable-libvidstab --enable-libvorbis --enable-libvpx --enable-libwebp --enable-libx265 --enable-libxml2 --enable-libxvid --enable-libzimg --enable-libzmq --enable-libzvbi --enable-lv2 --enable-omx --enable-openal --enable-opencl --enable-opengl --enable-sdl2 --enable-pocketsphinx --enable-librsvg --enable-libmfx --enable-libdc1394 --enable-libdrm --enable-libiec61883 --enable-chromaprint --enable-frei0r --enable-libx264 --enable-shared\n  libavutil      56. 70.100 / 56. 70.100\n  libavcodec     58.134.100 / 58.134.100\n  libavformat    58. 76.100 / 58. 76.100\n  libavdevice    58. 13.100 / 58. 13.100\n  libavfilter     7.110.100 /  7.110.100\n  libswscale      5.  9.100 /  5.  9.100\n  libswresample   3.  9.100 /  3.  9.100\n  libpostproc    55.  9.100 / 55.  9.100\n[mov,mp4,m4a,3gp,3g2,mj2 @ 0x55b09b05d040] moov atom not found\ndrive/MyDrive/Colab Notebooks/seamless m4t fine tuning/audios_test/cccc.m4a: Invalid data found when processing input\n",
          "traceback": [
            "\u001b[0;31m---------------------------------------------------------------------------\u001b[0m",
            "\u001b[0;31mCouldntDecodeError\u001b[0m                        Traceback (most recent call last)",
            "\u001b[0;32m<ipython-input-17-a0ce9a673d65>\u001b[0m in \u001b[0;36m<cell line: 7>\u001b[0;34m()\u001b[0m\n\u001b[1;32m      5\u001b[0m \u001b[0;34m\u001b[0m\u001b[0m\n\u001b[1;32m      6\u001b[0m \u001b[0;31m# Load the M4A audio file\u001b[0m\u001b[0;34m\u001b[0m\u001b[0;34m\u001b[0m\u001b[0m\n\u001b[0;32m----> 7\u001b[0;31m \u001b[0mm4a_audio\u001b[0m \u001b[0;34m=\u001b[0m \u001b[0mAudioSegment\u001b[0m\u001b[0;34m.\u001b[0m\u001b[0mfrom_file\u001b[0m\u001b[0;34m(\u001b[0m\u001b[0mm4a_file\u001b[0m\u001b[0;34m,\u001b[0m \u001b[0mformat\u001b[0m\u001b[0;34m=\u001b[0m\u001b[0;34m\"m4a\"\u001b[0m\u001b[0;34m)\u001b[0m\u001b[0;34m\u001b[0m\u001b[0;34m\u001b[0m\u001b[0m\n\u001b[0m\u001b[1;32m      8\u001b[0m \u001b[0;34m\u001b[0m\u001b[0m\n\u001b[1;32m      9\u001b[0m \u001b[0;31m# Set the sample rate to 16000\u001b[0m\u001b[0;34m\u001b[0m\u001b[0;34m\u001b[0m\u001b[0m\n",
            "\u001b[0;32m/usr/local/lib/python3.10/dist-packages/pydub/audio_segment.py\u001b[0m in \u001b[0;36mfrom_file\u001b[0;34m(cls, file, format, codec, parameters, start_second, duration, **kwargs)\u001b[0m\n\u001b[1;32m    771\u001b[0m             \u001b[0;32mif\u001b[0m \u001b[0mclose_file\u001b[0m\u001b[0;34m:\u001b[0m\u001b[0;34m\u001b[0m\u001b[0;34m\u001b[0m\u001b[0m\n\u001b[1;32m    772\u001b[0m                 \u001b[0mfile\u001b[0m\u001b[0;34m.\u001b[0m\u001b[0mclose\u001b[0m\u001b[0;34m(\u001b[0m\u001b[0;34m)\u001b[0m\u001b[0;34m\u001b[0m\u001b[0;34m\u001b[0m\u001b[0m\n\u001b[0;32m--> 773\u001b[0;31m             raise CouldntDecodeError(\n\u001b[0m\u001b[1;32m    774\u001b[0m                 \"Decoding failed. ffmpeg returned error code: {0}\\n\\nOutput from ffmpeg/avlib:\\n\\n{1}\".format(\n\u001b[1;32m    775\u001b[0m                     p.returncode, p_err.decode(errors='ignore') ))\n",
            "\u001b[0;31mCouldntDecodeError\u001b[0m: Decoding failed. ffmpeg returned error code: 1\n\nOutput from ffmpeg/avlib:\n\nffmpeg version 4.4.2-0ubuntu0.22.04.1 Copyright (c) 2000-2021 the FFmpeg developers\n  built with gcc 11 (Ubuntu 11.2.0-19ubuntu1)\n  configuration: --prefix=/usr --extra-version=0ubuntu0.22.04.1 --toolchain=hardened --libdir=/usr/lib/x86_64-linux-gnu --incdir=/usr/include/x86_64-linux-gnu --arch=amd64 --enable-gpl --disable-stripping --enable-gnutls --enable-ladspa --enable-libaom --enable-libass --enable-libbluray --enable-libbs2b --enable-libcaca --enable-libcdio --enable-libcodec2 --enable-libdav1d --enable-libflite --enable-libfontconfig --enable-libfreetype --enable-libfribidi --enable-libgme --enable-libgsm --enable-libjack --enable-libmp3lame --enable-libmysofa --enable-libopenjpeg --enable-libopenmpt --enable-libopus --enable-libpulse --enable-librabbitmq --enable-librubberband --enable-libshine --enable-libsnappy --enable-libsoxr --enable-libspeex --enable-libsrt --enable-libssh --enable-libtheora --enable-libtwolame --enable-libvidstab --enable-libvorbis --enable-libvpx --enable-libwebp --enable-libx265 --enable-libxml2 --enable-libxvid --enable-libzimg --enable-libzmq --enable-libzvbi --enable-lv2 --enable-omx --enable-openal --enable-opencl --enable-opengl --enable-sdl2 --enable-pocketsphinx --enable-librsvg --enable-libmfx --enable-libdc1394 --enable-libdrm --enable-libiec61883 --enable-chromaprint --enable-frei0r --enable-libx264 --enable-shared\n  libavutil      56. 70.100 / 56. 70.100\n  libavcodec     58.134.100 / 58.134.100\n  libavformat    58. 76.100 / 58. 76.100\n  libavdevice    58. 13.100 / 58. 13.100\n  libavfilter     7.110.100 /  7.110.100\n  libswscale      5.  9.100 /  5.  9.100\n  libswresample   3.  9.100 /  3.  9.100\n  libpostproc    55.  9.100 / 55.  9.100\n[mov,mp4,m4a,3gp,3g2,mj2 @ 0x55b09b05d040] moov atom not found\ndrive/MyDrive/Colab Notebooks/seamless m4t fine tuning/audios_test/cccc.m4a: Invalid data found when processing input\n"
          ]
        }
      ]
    },
    {
      "cell_type": "markdown",
      "source": [
        "# acc to wav"
      ],
      "metadata": {
        "id": "VA-UieWQbWAp"
      }
    },
    {
      "cell_type": "code",
      "source": [
        "from pydub import AudioSegment\n",
        "\n",
        "aac = path+'aac_audio.aac'\n",
        "wav_filename = path+'aac_to_wav.wav'\n",
        "\n",
        "sound = AudioSegment.from_file(aac, format='aac')\n",
        "file_handle = sound.export(wav_filename, format='wav')\n",
        "\n",
        "# Load the AAC audio file\n",
        "aac_audio = AudioSegment.from_file(aac, format=\"aac\")\n",
        "\n",
        "# Set the sample rate to 16000\n",
        "target_sample_rate = 16000\n",
        "aac_audio = aac_audio.set_frame_rate(target_sample_rate)\n",
        "\n",
        "# Export the audio to WAV format\n",
        "aac_audio.export(wav_filename, format=\"wav\")\n",
        "\n",
        "print(\"Conversion completed. WAV file saved at:\", wav_filename)\n"
      ],
      "metadata": {
        "colab": {
          "base_uri": "https://localhost:8080/"
        },
        "id": "WmZaeoRQbM6v",
        "outputId": "8541e6b0-4ea8-494f-cb72-14bd98d0c6c0"
      },
      "execution_count": null,
      "outputs": [
        {
          "output_type": "stream",
          "name": "stdout",
          "text": [
            "Conversion completed. WAV file saved at: drive/MyDrive/Colab Notebooks/seamless m4t fine tuning/audios_test/youssef_audio_anger.wav\n"
          ]
        }
      ]
    }
  ]
}