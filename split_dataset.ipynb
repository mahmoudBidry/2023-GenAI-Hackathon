{
  "nbformat": 4,
  "nbformat_minor": 0,
  "metadata": {
    "colab": {
      "provenance": [],
      "authorship_tag": "ABX9TyMN1ZhHn+exzTzkTS1/BbZm",
      "include_colab_link": true
    },
    "kernelspec": {
      "name": "python3",
      "display_name": "Python 3"
    },
    "language_info": {
      "name": "python"
    }
  },
  "cells": [
    {
      "cell_type": "markdown",
      "metadata": {
        "id": "view-in-github",
        "colab_type": "text"
      },
      "source": [
        "<a href=\"https://colab.research.google.com/github/mahmoudBidry/2023-GenAI-Hackathon/blob/main/split_dataset.ipynb\" target=\"_parent\"><img src=\"https://colab.research.google.com/assets/colab-badge.svg\" alt=\"Open In Colab\"/></a>"
      ]
    },
    {
      "cell_type": "code",
      "execution_count": null,
      "metadata": {
        "colab": {
          "base_uri": "https://localhost:8080/"
        },
        "id": "zg1_fFeckkgv",
        "outputId": "9b17a2a7-8620-459f-d112-ee97de5f3526"
      },
      "outputs": [
        {
          "output_type": "stream",
          "name": "stdout",
          "text": [
            "Drive already mounted at /content/drive; to attempt to forcibly remount, call drive.mount(\"/content/drive\", force_remount=True).\n"
          ]
        }
      ],
      "source": [
        "from google.colab import drive\n",
        "drive.mount('/content/drive')"
      ]
    },
    {
      "cell_type": "code",
      "source": [
        "import pandas as pd"
      ],
      "metadata": {
        "id": "cmxVdWD4krbz"
      },
      "execution_count": null,
      "outputs": []
    },
    {
      "cell_type": "code",
      "source": [
        "path = \"drive/MyDrive/Colab Notebooks/seamless m4t fine tuning/datasets/open darija dataset/\""
      ],
      "metadata": {
        "id": "KjNFhbsQkreM"
      },
      "execution_count": null,
      "outputs": []
    },
    {
      "cell_type": "code",
      "source": [
        "existing_file_path = path+'sentences_english_to_darija_cleaned.csv'\n",
        "df = pd.read_csv(existing_file_path)"
      ],
      "metadata": {
        "id": "iT5bLYiikrht"
      },
      "execution_count": null,
      "outputs": []
    },
    {
      "cell_type": "code",
      "source": [
        "df.info()"
      ],
      "metadata": {
        "colab": {
          "base_uri": "https://localhost:8080/"
        },
        "id": "kPc53N7ck_ZR",
        "outputId": "dd2ad15b-9132-4ffb-8ce8-66c91321d393"
      },
      "execution_count": null,
      "outputs": [
        {
          "output_type": "stream",
          "name": "stdout",
          "text": [
            "<class 'pandas.core.frame.DataFrame'>\n",
            "RangeIndex: 12743 entries, 0 to 12742\n",
            "Data columns (total 2 columns):\n",
            " #   Column     Non-Null Count  Dtype \n",
            "---  ------     --------------  ----- \n",
            " 0   eng        12743 non-null  object\n",
            " 1   darija_ar  12743 non-null  object\n",
            "dtypes: object(2)\n",
            "memory usage: 199.2+ KB\n"
          ]
        }
      ]
    },
    {
      "cell_type": "code",
      "source": [
        "df.head(12743)"
      ],
      "metadata": {
        "colab": {
          "base_uri": "https://localhost:8080/",
          "height": 423
        },
        "id": "bwLAe-0wlyi7",
        "outputId": "7af4bcd4-04c7-468b-90eb-6f99bf1edb1f"
      },
      "execution_count": null,
      "outputs": [
        {
          "output_type": "execute_result",
          "data": {
            "text/plain": [
              "                                                     eng  \\\n",
              "0                    They're hiding something, I'm sure!   \n",
              "1        It's obvious they're trying to keep their cool.   \n",
              "2                the hotels don't seem very comfortable.   \n",
              "3      he is probably about to be laid off by head of...   \n",
              "4                             of course he's depressive!   \n",
              "...                                                  ...   \n",
              "12738                 i've already checked the showtimes   \n",
              "12739         there's a late night screening on saturday   \n",
              "12740  i'm thinking we could grab some dinner before ...   \n",
              "12741                                that's a great plan   \n",
              "12742             dinner and a movie, the ultimate combo   \n",
              "\n",
              "                                   darija_ar  \n",
              "0          هوما مخبّيين شي حاجة, أنا متيقّن!  \n",
              "1         باينا هوما تايحاولو إبقاو مبرّدين.  \n",
              "2      لوطيلات مابايناش فيهوم موريحين بزّاف.  \n",
              "3            غاليبان غايجرّيو عليه من لخدما!  \n",
              "4                         طابعان راه مكتاءب!  \n",
              "...                                      ...  \n",
              "12738            را دجا شت إمتا خايكون لفيلم  \n",
              "12739              نهار لحد خايدار فليل معتل  \n",
              "12740            أنا كانڭول نمشيو نتعشاو قبل  \n",
              "12741                              بلان نادي  \n",
              "12742                 فيلم و عشا أحسّن كومبو  \n",
              "\n",
              "[12743 rows x 2 columns]"
            ],
            "text/html": [
              "\n",
              "  <div id=\"df-74d6f24d-bc6e-491b-8a93-72cc2842f15b\" class=\"colab-df-container\">\n",
              "    <div>\n",
              "<style scoped>\n",
              "    .dataframe tbody tr th:only-of-type {\n",
              "        vertical-align: middle;\n",
              "    }\n",
              "\n",
              "    .dataframe tbody tr th {\n",
              "        vertical-align: top;\n",
              "    }\n",
              "\n",
              "    .dataframe thead th {\n",
              "        text-align: right;\n",
              "    }\n",
              "</style>\n",
              "<table border=\"1\" class=\"dataframe\">\n",
              "  <thead>\n",
              "    <tr style=\"text-align: right;\">\n",
              "      <th></th>\n",
              "      <th>eng</th>\n",
              "      <th>darija_ar</th>\n",
              "    </tr>\n",
              "  </thead>\n",
              "  <tbody>\n",
              "    <tr>\n",
              "      <th>0</th>\n",
              "      <td>They're hiding something, I'm sure!</td>\n",
              "      <td>هوما مخبّيين شي حاجة, أنا متيقّن!</td>\n",
              "    </tr>\n",
              "    <tr>\n",
              "      <th>1</th>\n",
              "      <td>It's obvious they're trying to keep their cool.</td>\n",
              "      <td>باينا هوما تايحاولو إبقاو مبرّدين.</td>\n",
              "    </tr>\n",
              "    <tr>\n",
              "      <th>2</th>\n",
              "      <td>the hotels don't seem very comfortable.</td>\n",
              "      <td>لوطيلات مابايناش فيهوم موريحين بزّاف.</td>\n",
              "    </tr>\n",
              "    <tr>\n",
              "      <th>3</th>\n",
              "      <td>he is probably about to be laid off by head of...</td>\n",
              "      <td>غاليبان غايجرّيو عليه من لخدما!</td>\n",
              "    </tr>\n",
              "    <tr>\n",
              "      <th>4</th>\n",
              "      <td>of course he's depressive!</td>\n",
              "      <td>طابعان راه مكتاءب!</td>\n",
              "    </tr>\n",
              "    <tr>\n",
              "      <th>...</th>\n",
              "      <td>...</td>\n",
              "      <td>...</td>\n",
              "    </tr>\n",
              "    <tr>\n",
              "      <th>12738</th>\n",
              "      <td>i've already checked the showtimes</td>\n",
              "      <td>را دجا شت إمتا خايكون لفيلم</td>\n",
              "    </tr>\n",
              "    <tr>\n",
              "      <th>12739</th>\n",
              "      <td>there's a late night screening on saturday</td>\n",
              "      <td>نهار لحد خايدار فليل معتل</td>\n",
              "    </tr>\n",
              "    <tr>\n",
              "      <th>12740</th>\n",
              "      <td>i'm thinking we could grab some dinner before ...</td>\n",
              "      <td>أنا كانڭول نمشيو نتعشاو قبل</td>\n",
              "    </tr>\n",
              "    <tr>\n",
              "      <th>12741</th>\n",
              "      <td>that's a great plan</td>\n",
              "      <td>بلان نادي</td>\n",
              "    </tr>\n",
              "    <tr>\n",
              "      <th>12742</th>\n",
              "      <td>dinner and a movie, the ultimate combo</td>\n",
              "      <td>فيلم و عشا أحسّن كومبو</td>\n",
              "    </tr>\n",
              "  </tbody>\n",
              "</table>\n",
              "<p>12743 rows × 2 columns</p>\n",
              "</div>\n",
              "    <div class=\"colab-df-buttons\">\n",
              "\n",
              "  <div class=\"colab-df-container\">\n",
              "    <button class=\"colab-df-convert\" onclick=\"convertToInteractive('df-74d6f24d-bc6e-491b-8a93-72cc2842f15b')\"\n",
              "            title=\"Convert this dataframe to an interactive table.\"\n",
              "            style=\"display:none;\">\n",
              "\n",
              "  <svg xmlns=\"http://www.w3.org/2000/svg\" height=\"24px\" viewBox=\"0 -960 960 960\">\n",
              "    <path d=\"M120-120v-720h720v720H120Zm60-500h600v-160H180v160Zm220 220h160v-160H400v160Zm0 220h160v-160H400v160ZM180-400h160v-160H180v160Zm440 0h160v-160H620v160ZM180-180h160v-160H180v160Zm440 0h160v-160H620v160Z\"/>\n",
              "  </svg>\n",
              "    </button>\n",
              "\n",
              "  <style>\n",
              "    .colab-df-container {\n",
              "      display:flex;\n",
              "      gap: 12px;\n",
              "    }\n",
              "\n",
              "    .colab-df-convert {\n",
              "      background-color: #E8F0FE;\n",
              "      border: none;\n",
              "      border-radius: 50%;\n",
              "      cursor: pointer;\n",
              "      display: none;\n",
              "      fill: #1967D2;\n",
              "      height: 32px;\n",
              "      padding: 0 0 0 0;\n",
              "      width: 32px;\n",
              "    }\n",
              "\n",
              "    .colab-df-convert:hover {\n",
              "      background-color: #E2EBFA;\n",
              "      box-shadow: 0px 1px 2px rgba(60, 64, 67, 0.3), 0px 1px 3px 1px rgba(60, 64, 67, 0.15);\n",
              "      fill: #174EA6;\n",
              "    }\n",
              "\n",
              "    .colab-df-buttons div {\n",
              "      margin-bottom: 4px;\n",
              "    }\n",
              "\n",
              "    [theme=dark] .colab-df-convert {\n",
              "      background-color: #3B4455;\n",
              "      fill: #D2E3FC;\n",
              "    }\n",
              "\n",
              "    [theme=dark] .colab-df-convert:hover {\n",
              "      background-color: #434B5C;\n",
              "      box-shadow: 0px 1px 3px 1px rgba(0, 0, 0, 0.15);\n",
              "      filter: drop-shadow(0px 1px 2px rgba(0, 0, 0, 0.3));\n",
              "      fill: #FFFFFF;\n",
              "    }\n",
              "  </style>\n",
              "\n",
              "    <script>\n",
              "      const buttonEl =\n",
              "        document.querySelector('#df-74d6f24d-bc6e-491b-8a93-72cc2842f15b button.colab-df-convert');\n",
              "      buttonEl.style.display =\n",
              "        google.colab.kernel.accessAllowed ? 'block' : 'none';\n",
              "\n",
              "      async function convertToInteractive(key) {\n",
              "        const element = document.querySelector('#df-74d6f24d-bc6e-491b-8a93-72cc2842f15b');\n",
              "        const dataTable =\n",
              "          await google.colab.kernel.invokeFunction('convertToInteractive',\n",
              "                                                    [key], {});\n",
              "        if (!dataTable) return;\n",
              "\n",
              "        const docLinkHtml = 'Like what you see? Visit the ' +\n",
              "          '<a target=\"_blank\" href=https://colab.research.google.com/notebooks/data_table.ipynb>data table notebook</a>'\n",
              "          + ' to learn more about interactive tables.';\n",
              "        element.innerHTML = '';\n",
              "        dataTable['output_type'] = 'display_data';\n",
              "        await google.colab.output.renderOutput(dataTable, element);\n",
              "        const docLink = document.createElement('div');\n",
              "        docLink.innerHTML = docLinkHtml;\n",
              "        element.appendChild(docLink);\n",
              "      }\n",
              "    </script>\n",
              "  </div>\n",
              "\n",
              "\n",
              "<div id=\"df-a25f8835-ee02-469b-8366-a36a1cbaf3be\">\n",
              "  <button class=\"colab-df-quickchart\" onclick=\"quickchart('df-a25f8835-ee02-469b-8366-a36a1cbaf3be')\"\n",
              "            title=\"Suggest charts\"\n",
              "            style=\"display:none;\">\n",
              "\n",
              "<svg xmlns=\"http://www.w3.org/2000/svg\" height=\"24px\"viewBox=\"0 0 24 24\"\n",
              "     width=\"24px\">\n",
              "    <g>\n",
              "        <path d=\"M19 3H5c-1.1 0-2 .9-2 2v14c0 1.1.9 2 2 2h14c1.1 0 2-.9 2-2V5c0-1.1-.9-2-2-2zM9 17H7v-7h2v7zm4 0h-2V7h2v10zm4 0h-2v-4h2v4z\"/>\n",
              "    </g>\n",
              "</svg>\n",
              "  </button>\n",
              "\n",
              "<style>\n",
              "  .colab-df-quickchart {\n",
              "      --bg-color: #E8F0FE;\n",
              "      --fill-color: #1967D2;\n",
              "      --hover-bg-color: #E2EBFA;\n",
              "      --hover-fill-color: #174EA6;\n",
              "      --disabled-fill-color: #AAA;\n",
              "      --disabled-bg-color: #DDD;\n",
              "  }\n",
              "\n",
              "  [theme=dark] .colab-df-quickchart {\n",
              "      --bg-color: #3B4455;\n",
              "      --fill-color: #D2E3FC;\n",
              "      --hover-bg-color: #434B5C;\n",
              "      --hover-fill-color: #FFFFFF;\n",
              "      --disabled-bg-color: #3B4455;\n",
              "      --disabled-fill-color: #666;\n",
              "  }\n",
              "\n",
              "  .colab-df-quickchart {\n",
              "    background-color: var(--bg-color);\n",
              "    border: none;\n",
              "    border-radius: 50%;\n",
              "    cursor: pointer;\n",
              "    display: none;\n",
              "    fill: var(--fill-color);\n",
              "    height: 32px;\n",
              "    padding: 0;\n",
              "    width: 32px;\n",
              "  }\n",
              "\n",
              "  .colab-df-quickchart:hover {\n",
              "    background-color: var(--hover-bg-color);\n",
              "    box-shadow: 0 1px 2px rgba(60, 64, 67, 0.3), 0 1px 3px 1px rgba(60, 64, 67, 0.15);\n",
              "    fill: var(--button-hover-fill-color);\n",
              "  }\n",
              "\n",
              "  .colab-df-quickchart-complete:disabled,\n",
              "  .colab-df-quickchart-complete:disabled:hover {\n",
              "    background-color: var(--disabled-bg-color);\n",
              "    fill: var(--disabled-fill-color);\n",
              "    box-shadow: none;\n",
              "  }\n",
              "\n",
              "  .colab-df-spinner {\n",
              "    border: 2px solid var(--fill-color);\n",
              "    border-color: transparent;\n",
              "    border-bottom-color: var(--fill-color);\n",
              "    animation:\n",
              "      spin 1s steps(1) infinite;\n",
              "  }\n",
              "\n",
              "  @keyframes spin {\n",
              "    0% {\n",
              "      border-color: transparent;\n",
              "      border-bottom-color: var(--fill-color);\n",
              "      border-left-color: var(--fill-color);\n",
              "    }\n",
              "    20% {\n",
              "      border-color: transparent;\n",
              "      border-left-color: var(--fill-color);\n",
              "      border-top-color: var(--fill-color);\n",
              "    }\n",
              "    30% {\n",
              "      border-color: transparent;\n",
              "      border-left-color: var(--fill-color);\n",
              "      border-top-color: var(--fill-color);\n",
              "      border-right-color: var(--fill-color);\n",
              "    }\n",
              "    40% {\n",
              "      border-color: transparent;\n",
              "      border-right-color: var(--fill-color);\n",
              "      border-top-color: var(--fill-color);\n",
              "    }\n",
              "    60% {\n",
              "      border-color: transparent;\n",
              "      border-right-color: var(--fill-color);\n",
              "    }\n",
              "    80% {\n",
              "      border-color: transparent;\n",
              "      border-right-color: var(--fill-color);\n",
              "      border-bottom-color: var(--fill-color);\n",
              "    }\n",
              "    90% {\n",
              "      border-color: transparent;\n",
              "      border-bottom-color: var(--fill-color);\n",
              "    }\n",
              "  }\n",
              "</style>\n",
              "\n",
              "  <script>\n",
              "    async function quickchart(key) {\n",
              "      const quickchartButtonEl =\n",
              "        document.querySelector('#' + key + ' button');\n",
              "      quickchartButtonEl.disabled = true;  // To prevent multiple clicks.\n",
              "      quickchartButtonEl.classList.add('colab-df-spinner');\n",
              "      try {\n",
              "        const charts = await google.colab.kernel.invokeFunction(\n",
              "            'suggestCharts', [key], {});\n",
              "      } catch (error) {\n",
              "        console.error('Error during call to suggestCharts:', error);\n",
              "      }\n",
              "      quickchartButtonEl.classList.remove('colab-df-spinner');\n",
              "      quickchartButtonEl.classList.add('colab-df-quickchart-complete');\n",
              "    }\n",
              "    (() => {\n",
              "      let quickchartButtonEl =\n",
              "        document.querySelector('#df-a25f8835-ee02-469b-8366-a36a1cbaf3be button');\n",
              "      quickchartButtonEl.style.display =\n",
              "        google.colab.kernel.accessAllowed ? 'block' : 'none';\n",
              "    })();\n",
              "  </script>\n",
              "</div>\n",
              "\n",
              "    </div>\n",
              "  </div>\n"
            ],
            "application/vnd.google.colaboratory.intrinsic+json": {
              "type": "dataframe",
              "variable_name": "df",
              "summary": "{\n  \"name\": \"df\",\n  \"rows\": 12743,\n  \"fields\": [\n    {\n      \"column\": \"eng\",\n      \"properties\": {\n        \"dtype\": \"string\",\n        \"num_unique_values\": 11544,\n        \"samples\": [\n          \"We need to make a plan\",\n          \"Yes, a chocolate cake, and another apple I think.\",\n          \"He might get even sicker!\"\n        ],\n        \"semantic_type\": \"\",\n        \"description\": \"\"\n      }\n    },\n    {\n      \"column\": \"darija_ar\",\n      \"properties\": {\n        \"dtype\": \"string\",\n        \"num_unique_values\": 12169,\n        \"samples\": [\n          \"\\u0644\\u0627\\u0648\\u0639\\u0644\\u0645\",\n          \"\\u0635\\u0639\\u064a\\u0628 \\u062a\\u0627\\u064a\\u0627\\u0628 \\u0644\\u0628\\u0627\\u0637\\u0651\",\n          \"\\u0623\\u0634 \\u0647\\u0627\\u062f \\u0633\\u062f\\u0627\\u0639 \\u0623\\u064f \\u0625\\u0631\\u062a\\u064a\\u0639\\u0627\\u0634 \\u0644\\u063a\\u0627\\u0631\\u064a\\u0628?\"\n        ],\n        \"semantic_type\": \"\",\n        \"description\": \"\"\n      }\n    }\n  ]\n}"
            }
          },
          "metadata": {},
          "execution_count": 8
        }
      ]
    },
    {
      "cell_type": "markdown",
      "source": [
        "# split dataset into chunks"
      ],
      "metadata": {
        "id": "us2vTU0vDe2T"
      }
    },
    {
      "cell_type": "code",
      "source": [
        "# Calculate the number of chunks\n",
        "num_chunks = len(df) // 1000 + 1"
      ],
      "metadata": {
        "id": "-niz8CRfmrUt"
      },
      "execution_count": null,
      "outputs": []
    },
    {
      "cell_type": "code",
      "source": [
        "# Split the DataFrame into chunks\n",
        "chunks = [df[i*1000:(i+1)*1000] for i in range(num_chunks)]"
      ],
      "metadata": {
        "id": "ruMuWKUKmyOe"
      },
      "execution_count": null,
      "outputs": []
    },
    {
      "cell_type": "code",
      "source": [
        "destination_path = \"datatset preparation/\""
      ],
      "metadata": {
        "id": "Z3Kkg5T7nCF1"
      },
      "execution_count": null,
      "outputs": []
    },
    {
      "cell_type": "code",
      "source": [
        "# Save each chunk as a separate CSV file\n",
        "for i, chunk in enumerate(chunks):\n",
        "    chunk.to_csv(f'{path+destination_path}dataset_chunk_{i+1}.csv', index=False)\n",
        "\n",
        "print(\"Chunks saved successfully.\")"
      ],
      "metadata": {
        "colab": {
          "base_uri": "https://localhost:8080/"
        },
        "id": "HZzjtbJ6mtUe",
        "outputId": "b5e272fe-e232-4972-bd2a-c9d44a137cc6"
      },
      "execution_count": null,
      "outputs": [
        {
          "output_type": "stream",
          "name": "stdout",
          "text": [
            "Chunks saved successfully.\n"
          ]
        }
      ]
    },
    {
      "cell_type": "code",
      "source": [
        "def convert_csv_to_text(csv_file, output_file):\n",
        "    global index  # Declare index as global\n",
        "\n",
        "    # Read the CSV file into a DataFrame\n",
        "    df = pd.read_csv(csv_file)\n",
        "\n",
        "    # Extract the 'eng' and 'darija_ar' columns\n",
        "    eng_column = df['eng']\n",
        "    darija_ar_column = df['darija_ar']\n",
        "\n",
        "    # Open the output text file for writing\n",
        "    with open(output_file, 'w', encoding='utf-8') as f:\n",
        "        # Iterate through each row and write the content to the text file\n",
        "        for eng_text, darija_ar_text in zip(eng_column, darija_ar_column):\n",
        "            f.write(f\"{index}-English: {eng_text}\\n\")\n",
        "            f.write(f\"{index}-Darija: {darija_ar_text}\\n\")\n",
        "            f.write(\"-----------------------------------------\\n\")\n",
        "            f.write('\\n')  # Add a newline between entries\n",
        "            index += 1\n",
        "    print(f\"Text file '{output_file}' has been created.\")"
      ],
      "metadata": {
        "id": "n4VLSqRxDu9o"
      },
      "execution_count": null,
      "outputs": []
    },
    {
      "cell_type": "code",
      "source": [
        "import os\n",
        "\n",
        "index = 0  # Initialize index before calling the function\n",
        "\n",
        "# Loop through files in the directory\n",
        "for item in os.listdir(path + destination_path):\n",
        "    if item.endswith(\".csv\"):\n",
        "        convert_csv_to_text(path + destination_path + item, path + destination_path + item.split('.')[0] + '.txt')"
      ],
      "metadata": {
        "colab": {
          "base_uri": "https://localhost:8080/"
        },
        "id": "PqrPJ5tuUGv6",
        "outputId": "88b05ba3-9eb3-4234-8072-8e6bd7de23a5"
      },
      "execution_count": null,
      "outputs": [
        {
          "output_type": "stream",
          "name": "stdout",
          "text": [
            "Text file 'drive/MyDrive/Colab Notebooks/seamless m4t fine tuning/datasets/open darija dataset/datatset preparation/dataset_chunk_1.txt' has been created.\n",
            "Text file 'drive/MyDrive/Colab Notebooks/seamless m4t fine tuning/datasets/open darija dataset/datatset preparation/dataset_chunk_2.txt' has been created.\n",
            "Text file 'drive/MyDrive/Colab Notebooks/seamless m4t fine tuning/datasets/open darija dataset/datatset preparation/dataset_chunk_3.txt' has been created.\n",
            "Text file 'drive/MyDrive/Colab Notebooks/seamless m4t fine tuning/datasets/open darija dataset/datatset preparation/dataset_chunk_4.txt' has been created.\n",
            "Text file 'drive/MyDrive/Colab Notebooks/seamless m4t fine tuning/datasets/open darija dataset/datatset preparation/dataset_chunk_5.txt' has been created.\n",
            "Text file 'drive/MyDrive/Colab Notebooks/seamless m4t fine tuning/datasets/open darija dataset/datatset preparation/dataset_chunk_6.txt' has been created.\n",
            "Text file 'drive/MyDrive/Colab Notebooks/seamless m4t fine tuning/datasets/open darija dataset/datatset preparation/dataset_chunk_7.txt' has been created.\n",
            "Text file 'drive/MyDrive/Colab Notebooks/seamless m4t fine tuning/datasets/open darija dataset/datatset preparation/dataset_chunk_8.txt' has been created.\n",
            "Text file 'drive/MyDrive/Colab Notebooks/seamless m4t fine tuning/datasets/open darija dataset/datatset preparation/dataset_chunk_9.txt' has been created.\n",
            "Text file 'drive/MyDrive/Colab Notebooks/seamless m4t fine tuning/datasets/open darija dataset/datatset preparation/dataset_chunk_10.txt' has been created.\n",
            "Text file 'drive/MyDrive/Colab Notebooks/seamless m4t fine tuning/datasets/open darija dataset/datatset preparation/dataset_chunk_11.txt' has been created.\n",
            "Text file 'drive/MyDrive/Colab Notebooks/seamless m4t fine tuning/datasets/open darija dataset/datatset preparation/dataset_chunk_12.txt' has been created.\n",
            "Text file 'drive/MyDrive/Colab Notebooks/seamless m4t fine tuning/datasets/open darija dataset/datatset preparation/dataset_chunk_13.txt' has been created.\n"
          ]
        }
      ]
    }
  ]
}